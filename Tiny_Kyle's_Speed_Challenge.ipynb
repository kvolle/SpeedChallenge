{
  "nbformat": 4,
  "nbformat_minor": 0,
  "metadata": {
    "colab": {
      "name": "Tiny Kyle's Speed Challenge",
      "provenance": [],
      "collapsed_sections": [],
      "include_colab_link": true
    },
    "kernelspec": {
      "name": "python3",
      "display_name": "Python 3"
    },
    "accelerator": "GPU"
  },
  "cells": [
    {
      "cell_type": "markdown",
      "metadata": {
        "id": "view-in-github",
        "colab_type": "text"
      },
      "source": [
        "<a href=\"https://colab.research.google.com/github/kvolle/SpeedChallenge/blob/single_mem_test/Tiny_Kyle's_Speed_Challenge.ipynb\" target=\"_parent\"><img src=\"https://colab.research.google.com/assets/colab-badge.svg\" alt=\"Open In Colab\"/></a>"
      ]
    },
    {
      "cell_type": "markdown",
      "metadata": {
        "id": "IMTMpzey5z5c",
        "colab_type": "text"
      },
      "source": [
        "**Comma AI Speed Challenge**\n",
        "\n",
        "  This notebook will contain (hopefully) all of the functions you need to import the data into your model.\n",
        "\n",
        "  ***Be sure to train with GPU acceleration enabled***"
      ]
    },
    {
      "cell_type": "markdown",
      "metadata": {
        "id": "3kq-rlJxzHbr",
        "colab_type": "text"
      },
      "source": [
        "**Import Statements**"
      ]
    },
    {
      "cell_type": "code",
      "metadata": {
        "id": "sguc70jY5xt_",
        "colab_type": "code",
        "colab": {}
      },
      "source": [
        "import numpy as np\n",
        "import tensorflow as tf\n",
        "from tensorflow import keras\n",
        "from datetime import datetime"
      ],
      "execution_count": null,
      "outputs": []
    },
    {
      "cell_type": "code",
      "metadata": {
        "id": "HMbmO0l8_UAG",
        "colab_type": "code",
        "colab": {
          "base_uri": "https://localhost:8080/",
          "height": 121
        },
        "outputId": "32fd9b76-fe03-42f0-b3d1-4e15ad647d0e"
      },
      "source": [
        "from google.colab import drive\n",
        "drive.mount('/content/drive')"
      ],
      "execution_count": null,
      "outputs": [
        {
          "output_type": "stream",
          "text": [
            "Go to this URL in a browser: https://accounts.google.com/o/oauth2/auth?client_id=947318989803-6bn6qk8qdgf4n4g3pfee6491hc0brc4i.apps.googleusercontent.com&redirect_uri=urn%3aietf%3awg%3aoauth%3a2.0%3aoob&response_type=code&scope=email%20https%3a%2f%2fwww.googleapis.com%2fauth%2fdocs.test%20https%3a%2f%2fwww.googleapis.com%2fauth%2fdrive%20https%3a%2f%2fwww.googleapis.com%2fauth%2fdrive.photos.readonly%20https%3a%2f%2fwww.googleapis.com%2fauth%2fpeopleapi.readonly\n",
            "\n",
            "Enter your authorization code:\n",
            "··········\n",
            "Mounted at /content/drive\n"
          ],
          "name": "stdout"
        }
      ]
    },
    {
      "cell_type": "code",
      "metadata": {
        "id": "PtZb63HTVVv_",
        "colab_type": "code",
        "colab": {}
      },
      "source": [
        "x = np.load(\"./drive/My Drive/commai_dataset/data/data_001.npy\")"
      ],
      "execution_count": null,
      "outputs": []
    },
    {
      "cell_type": "markdown",
      "metadata": {
        "id": "FNzSFHCVDKGp",
        "colab_type": "text"
      },
      "source": [
        "**Custom Data Generator**\n",
        "\n",
        "This works (I think) for giving two sequential images to a Keras Functional model as well as the velocity associated with the second image.\n",
        "\n",
        "At this point, don't worry about how this works. If you need something changed or fixed, just ask. This is the boring part anyways."
      ]
    },
    {
      "cell_type": "code",
      "metadata": {
        "id": "RXXe8EiADaTz",
        "colab_type": "code",
        "colab": {}
      },
      "source": [
        "class DataGenerator(keras.utils.Sequence):\n",
        "    'Generates data for Keras'\n",
        "    def __init__(self, list_IDs, labels, batch_size=32, dim=(32,32,32), n_channels=1,\n",
        "                 n_classes=10, shuffle=True):\n",
        "        'Initialization'\n",
        "        self.dim = dim\n",
        "        self.batch_size = batch_size\n",
        "        self.labels = labels\n",
        "        self.list_IDs = list_IDs\n",
        "        self.n_channels = n_channels\n",
        "        self.n_classes = n_classes\n",
        "        self.shuffle = shuffle\n",
        "        self.on_epoch_end()\n",
        "        self.direct = \"./drive/My Drive/commai_dataset/\"\n",
        "\n",
        "    def __len__(self):\n",
        "        'Denotes the number of batches per epoch'\n",
        "        return len(self.list_IDs) #int(np.floor(len(self.list_IDs) / self.batch_size))\n",
        "\n",
        "    def __getitem__(self, index):\n",
        "        'Generate one batch of data'\n",
        "        \n",
        "        # Find list of IDs\n",
        "        list_IDs_temp = self.list_IDs[index]\n",
        "        # Generate data\n",
        "        #print(index)\n",
        "        #print(list_IDs_temp)\n",
        "        X, y = self.__data_generation(list_IDs_temp)\n",
        "\n",
        "        return X, y\n",
        "\n",
        "    def on_epoch_end(self):\n",
        "        'Updates indexes after each epoch'\n",
        "        self.indexes = np.arange(len(self.list_IDs))\n",
        "        if self.shuffle == True:\n",
        "            np.random.shuffle(self.indexes)\n",
        "\n",
        "    def __data_generation(self, list_IDs_temp):\n",
        "        'Generates data containing batch_size samples' # X : (n_samples, *dim, n_channels)\n",
        "        # Initialization\n",
        "        X = np.load(self.direct+\"data/data_\" + list_IDs_temp +\".npy\")\n",
        "        #x1 = X[0:101,:,:,:]/255.\n",
        "        #x1 = x1 - np.mean(x1, axis=0)\n",
        "        x2 = X[1:102,:,:,:]/255.\n",
        "        x2 = x2 - np.mean(x2, axis=0)\n",
        "        y = np.load(self.direct+\"labels/label_\" + list_IDs_temp +\".npy\")\n",
        "        y = y[1:102]#/10.\n",
        "\n",
        "        #return [x1, x2], y\n",
        "        return x2, y"
      ],
      "execution_count": null,
      "outputs": []
    },
    {
      "cell_type": "markdown",
      "metadata": {
        "id": "JJy-HdjtEH-o",
        "colab_type": "text"
      },
      "source": [
        "**Define custom loss function**\n",
        "\n",
        "This is not well tested, neither is it optimized. You might not even want to use this function.\n",
        "\n",
        "Keras backend functions are a powerful tool for writing custom loss functions. To define a loss function it just has to accept *y_true* and *y_pred* as arguments and return a float.\n",
        "\n",
        "To use your new loss function, change the argument in *model.compile()*."
      ]
    },
    {
      "cell_type": "code",
      "metadata": {
        "id": "raqNfdCNENGL",
        "colab_type": "code",
        "colab": {}
      },
      "source": [
        "def mean_sq_err(y_true, y_pred):\n",
        "  #y_pred = 15. + y_pred*15.\n",
        "  return tf.keras.backend.mean(tf.keras.backend.square(y_true - y_pred)) #+ metric_var(y_true, y_pred)#1./(0.001+tf.keras.backend.var(y_pred))"
      ],
      "execution_count": null,
      "outputs": []
    },
    {
      "cell_type": "code",
      "metadata": {
        "id": "zI34rmOxb9QV",
        "colab_type": "code",
        "colab": {}
      },
      "source": [
        "def mean_psuedo_huber(y_true, y_pred):\n",
        "  scale = 10\n",
        "  huber = scale*scale*(tf.keras.backend.sqrt(1+tf.keras.backend.square((y_true-y_pred)/scale)) - 1)\n",
        "  return tf.keras.backend.mean(huber)"
      ],
      "execution_count": null,
      "outputs": []
    },
    {
      "cell_type": "code",
      "metadata": {
        "id": "1hGHhhRpdNO8",
        "colab_type": "code",
        "colab": {}
      },
      "source": [
        "def metric_var(y_true, y_pred):\n",
        "  #return 1./(0.001+tf.keras.backend.var(y_pred))\n",
        "  epsilon = 0.001\n",
        "  return tf.keras.backend.maximum((epsilon + tf.keras.backend.var(y_true))/(epsilon+tf.keras.backend.var(y_pred)), 1)"
      ],
      "execution_count": null,
      "outputs": []
    },
    {
      "cell_type": "code",
      "metadata": {
        "id": "e6drymOadOAq",
        "colab_type": "code",
        "colab": {}
      },
      "source": [
        "def mean_psuedo_huber_var(y_true, y_pred):\n",
        "  scale_factor = 10.\n",
        "  return scale_factor*mean_psuedo_huber(y_true, y_pred) + metric_var(y_true, y_pred)"
      ],
      "execution_count": null,
      "outputs": []
    },
    {
      "cell_type": "markdown",
      "metadata": {
        "id": "lgc5HQbfFvN1",
        "colab_type": "text"
      },
      "source": [
        "**Define the test-train split and create the Data Generator**"
      ]
    },
    {
      "cell_type": "code",
      "metadata": {
        "id": "Ru6ugzA6Fzc_",
        "colab_type": "code",
        "colab": {}
      },
      "source": [
        "params = {'dim': (110,320),\n",
        "          'batch_size': 101,\n",
        "          'n_classes': 1,\n",
        "          'n_channels': 3,\n",
        "          'shuffle': False}\n",
        "\n",
        "train_data = []\n",
        "train_label = []\n",
        "valid_data = []\n",
        "valid_label = []\n",
        "\n",
        "for i in range(70):\n",
        "    train_data.append(\"%03d\" %i)\n",
        "    train_data.append(\"%03d\" %(i+100))\n",
        "\n",
        "for i in range(70, 100):\n",
        "    valid_data.append(\"%03d\" %i)\n",
        "    valid_data.append(\"%03d\" %(i+100))\n",
        "\n",
        "partition={'train':train_data, 'validation':valid_data}\n",
        "labels = {'train': train_label,'validation':valid_label}\n",
        "\n",
        "training_generator = DataGenerator(partition['train'], labels['train'], **params)\n",
        "validation_generator =DataGenerator(partition['validation'], labels['validation'], **params)"
      ],
      "execution_count": null,
      "outputs": []
    },
    {
      "cell_type": "markdown",
      "metadata": {
        "id": "5D0xuO74GB9N",
        "colab_type": "text"
      },
      "source": [
        "**Define the input layers**"
      ]
    },
    {
      "cell_type": "code",
      "metadata": {
        "id": "BszGQ-CEGEDN",
        "colab_type": "code",
        "colab": {}
      },
      "source": [
        "input_A = tf.keras.layers.Input(shape=(110, 320, 3), name=\"first_image\")\n",
        "#input_B = tf.keras.layers.Input(shape=(110, 320, 3), name=\"second_image\")"
      ],
      "execution_count": null,
      "outputs": []
    },
    {
      "cell_type": "markdown",
      "metadata": {
        "id": "NfgLVnl4GHC1",
        "colab_type": "text"
      },
      "source": [
        "**Define the model**\n",
        "\n",
        "This model is a particularly ridiculous placeholder. Make yours better"
      ]
    },
    {
      "cell_type": "code",
      "metadata": {
        "id": "KM6qw3x9lB7V",
        "colab_type": "code",
        "colab": {}
      },
      "source": [
        "def create_side():\n",
        "  side_input = tf.keras.layers.Input(shape=(110, 320, 3), name=\"side_input\")\n",
        "  pre_split_conv_1 = tf.keras.layers.Conv2D(16, (3,3), padding='same', kernel_regularizer=tf.keras.regularizers.l1_l2())(side_input)\n",
        "  pre_split_conv_1 = tf.keras.layers.MaxPool2D((2,2))(pre_split_conv_1)\n",
        "  side_output = tf.keras.layers.Conv2D(32, (3,3), padding='same', kernel_regularizer=tf.keras.regularizers.l1_l2())(pre_split_conv_1)\n",
        "  return tf.keras.models.Model(inputs = side_input, outputs = side_output)"
      ],
      "execution_count": null,
      "outputs": []
    },
    {
      "cell_type": "code",
      "metadata": {
        "id": "v2emlkaGmHuZ",
        "colab_type": "code",
        "colab": {}
      },
      "source": [
        "side = create_side() \n",
        "res_a = side(input_A)\n",
        "#res_b = side(input_B)\n",
        "#concat = tf.keras.layers.concatenate([res_a, res_b])\n",
        "conv_1 = tf.keras.layers.Conv2D(164, (3,3), padding='same', kernel_regularizer=tf.keras.regularizers.l1_l2())(res_a)\n",
        "conv_1 = tf.keras.layers.MaxPool2D((3,3))(conv_1)\n",
        "conv_2 = tf.keras.layers.Conv2D(32, (3,3), padding='same', kernel_regularizer=tf.keras.regularizers.l1_l2())(conv_1)\n",
        "conv_2 = tf.keras.layers.MaxPool2D((3,23))(conv_2)\n",
        "flat = tf.keras.layers.Flatten()(conv_2)\n",
        "dense_1 = tf.keras.layers.Dense(1024)(flat)\n",
        "#dense_2 = tf.keras.layers.Dense(64)(dense_1)\n",
        "dense_3 = tf.keras.layers.Dense(1, activation='relu')(dense_1)\n",
        "model = tf.keras.models.Model(inputs=[input_A, input_B], outputs=dense_3)"
      ],
      "execution_count": null,
      "outputs": []
    },
    {
      "cell_type": "markdown",
      "metadata": {
        "id": "3fSlCiE_GUit",
        "colab_type": "text"
      },
      "source": [
        "**How ridiculous? Run this next cell and find out.**\n",
        "\n",
        "(Note how many parameters there are, at least it trains fast)"
      ]
    },
    {
      "cell_type": "code",
      "metadata": {
        "id": "hT1HSaxaGanK",
        "colab_type": "code",
        "colab": {}
      },
      "source": [
        "model.summary()"
      ],
      "execution_count": null,
      "outputs": []
    },
    {
      "cell_type": "markdown",
      "metadata": {
        "id": "kyKXx_R9GgXH",
        "colab_type": "text"
      },
      "source": [
        "**Declare the optimizer and loss function, then compile your *less ridiculous*  model**"
      ]
    },
    {
      "cell_type": "code",
      "metadata": {
        "id": "oTDWZaewGtPw",
        "colab_type": "code",
        "colab": {}
      },
      "source": [
        "_optimizer = tf.keras.optimizers.Adam(learning_rate=0.0005)\n",
        "model.compile(optimizer=_optimizer, loss = mean_psuedo_huber,  metrics=[metric_var, mean_sq_err])"
      ],
      "execution_count": null,
      "outputs": []
    },
    {
      "cell_type": "markdown",
      "metadata": {
        "id": "K6zUadpkHe9j",
        "colab_type": "text"
      },
      "source": [
        "**Train using the fit_generator**"
      ]
    },
    {
      "cell_type": "code",
      "metadata": {
        "id": "8vv725GgzZCw",
        "colab_type": "code",
        "colab": {}
      },
      "source": [
        "%load_ext tensorboard"
      ],
      "execution_count": null,
      "outputs": []
    },
    {
      "cell_type": "code",
      "metadata": {
        "id": "N6YZgC4hzaNO",
        "colab_type": "code",
        "colab": {}
      },
      "source": [
        "logdir = \"./drive/My Drive/SpeedChallenge/Logs/\" + datetime.now().strftime(\"%Y%m%d-%H%M%S\")\n",
        "tensorboard_callback = tf.keras.callbacks.TensorBoard(log_dir=logdir, histogram_freq=1, update_freq=1250)"
      ],
      "execution_count": null,
      "outputs": []
    },
    {
      "cell_type": "code",
      "metadata": {
        "id": "YXBgCxc40B-t",
        "colab_type": "code",
        "colab": {}
      },
      "source": [
        "cp_callback = tf.keras.callbacks.ModelCheckpoint(filepath=\"./drive/My Drive/SpeedChallenge/Checkpoints/removed_activations_changed_pool{epoch}.h5\", save_weights_only=True,  verbose=0)"
      ],
      "execution_count": null,
      "outputs": []
    },
    {
      "cell_type": "code",
      "metadata": {
        "id": "dDsEb8YG0Brs",
        "colab_type": "code",
        "colab": {}
      },
      "source": [
        "model.fit_generator(generator=training_generator, validation_data=validation_generator, epochs=12, initial_epoch=0,callbacks=[tensorboard_callback, cp_callback])"
      ],
      "execution_count": null,
      "outputs": []
    },
    {
      "cell_type": "code",
      "metadata": {
        "id": "-BqWbVh1CvYn",
        "colab_type": "code",
        "colab": {}
      },
      "source": [
        "%tensorboard --logdir ./drive/My\\ Drive/SpeedChallenge/Logs/20200630-032031/"
      ],
      "execution_count": null,
      "outputs": []
    },
    {
      "cell_type": "code",
      "metadata": {
        "id": "0eA94MPzFbWJ",
        "colab_type": "code",
        "colab": {}
      },
      "source": [
        "x = np.load(\"./drive/My Drive/commai_dataset/data/data_049.npy\")\n",
        "truth = np.load(\"./drive/My Drive/commai_dataset/labels/label_049.npy\")\n",
        "x1 = x[0:20,:,:,:]/255.\n",
        "x2 = x[1:21,:,:,:]/255.\n",
        "y = model.predict([x1, x2])"
      ],
      "execution_count": null,
      "outputs": []
    },
    {
      "cell_type": "code",
      "metadata": {
        "id": "z5w34kXkFdhV",
        "colab_type": "code",
        "colab": {}
      },
      "source": [
        "print(y)\n",
        "print(truth[1:21])"
      ],
      "execution_count": null,
      "outputs": []
    }
  ]
}